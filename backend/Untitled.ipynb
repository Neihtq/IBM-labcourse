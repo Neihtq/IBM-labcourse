{
 "cells": [
  {
   "cell_type": "code",
   "execution_count": 1,
   "id": "creative-updating",
   "metadata": {},
   "outputs": [],
   "source": [
    "import os\n",
    "import cv2\n",
    "import torch\n",
    "\n",
    "from face_recognition.utils.data_augmentation import augment_and_normalize"
   ]
  },
  {
   "cell_type": "code",
   "execution_count": 2,
   "id": "federal-joshua",
   "metadata": {},
   "outputs": [
    {
     "data": {
      "text/plain": [
       "('face_recognition\\\\data\\\\images\\\\lfw_aligned\\\\Aaron_Eckhart',\n",
       " 'Aaron_Eckhart_0001.jpg')"
      ]
     },
     "execution_count": 2,
     "metadata": {},
     "output_type": "execute_result"
    }
   ],
   "source": [
    "root = os.path.join('face_recognition', 'data', 'images', 'lfw_aligned')\n",
    "tmp = os.listdir(root)[0]\n",
    "folder = os.path.join(root, tmp)\n",
    "folder, os.listdir(folder)[0]"
   ]
  },
  {
   "cell_type": "code",
   "execution_count": 3,
   "id": "proper-poland",
   "metadata": {},
   "outputs": [],
   "source": [
    "pth = '.\\\\face_recognition\\\\data\\\\images\\\\lfw_aligned\\\\Aaron_Eckhart\\\\Aaron_Eckhart_0001.jpg'\n",
    "\n",
    "img = cv2.imread(pth)"
   ]
  },
  {
   "cell_type": "code",
   "execution_count": 4,
   "id": "adolescent-lightweight",
   "metadata": {},
   "outputs": [],
   "source": [
    "tens = torch.from_numpy(img).unsqueeze(0).float()"
   ]
  },
  {
   "cell_type": "code",
   "execution_count": 5,
   "id": "iraqi-liberty",
   "metadata": {},
   "outputs": [],
   "source": [
    "augmented = augment_and_normalize(tens)"
   ]
  },
  {
   "cell_type": "code",
   "execution_count": 6,
   "id": "incredible-hazard",
   "metadata": {},
   "outputs": [
    {
     "data": {
      "text/plain": [
       "torch.Size([1, 3, 224, 224])"
      ]
     },
     "execution_count": 6,
     "metadata": {},
     "output_type": "execute_result"
    }
   ],
   "source": [
    "augmented[0].shape"
   ]
  },
  {
   "cell_type": "code",
   "execution_count": null,
   "id": "renewable-anchor",
   "metadata": {},
   "outputs": [],
   "source": [
    "hparams = {'margin': 0.02, 'optimizer': 'adagrad', 'weight_decay': 1e-5, 'lr': 0.05}\n",
    "backbone = FaceNetResnet(pretrained=True)\n",
    "model = LightningFaceNet(hparams, backbone)"
   ]
  },
  {
   "cell_type": "code",
   "execution_count": null,
   "id": "disturbed-vault",
   "metadata": {},
   "outputs": [],
   "source": []
  },
  {
   "cell_type": "code",
   "execution_count": null,
   "id": "regulated-wednesday",
   "metadata": {},
   "outputs": [],
   "source": [
    "model = LightningFaceNet.load_from_checkpoint(checkpoint, hparams=hparams, model=backbone)"
   ]
  },
  {
   "cell_type": "code",
   "execution_count": null,
   "id": "global-familiar",
   "metadata": {},
   "outputs": [],
   "source": [
    "model"
   ]
  },
  {
   "cell_type": "code",
   "execution_count": null,
   "id": "funded-channel",
   "metadata": {},
   "outputs": [],
   "source": [
    "trainer = pl.Trainer(\n",
    "    gpus=1 if torch.cuda.is_available() else 0,\n",
    "    max_epochs=3,\n",
    ")"
   ]
  },
  {
   "cell_type": "code",
   "execution_count": null,
   "id": "thrown-nirvana",
   "metadata": {},
   "outputs": [],
   "source": [
    "from torch.utils.data import DataLoader\n",
    "\n",
    "test_loader = DataLoader(lfw_set, batch_size=16, shuffle=True, num_workers=8)\n",
    "trainer.test(model, test_loader)"
   ]
  },
  {
   "cell_type": "code",
   "execution_count": null,
   "id": "reported-patrick",
   "metadata": {},
   "outputs": [],
   "source": [
    "model_name = os.path.join(results_path, 'presentation_model.pth')"
   ]
  },
  {
   "cell_type": "code",
   "execution_count": null,
   "id": "annual-flood",
   "metadata": {},
   "outputs": [],
   "source": [
    "torch.save(model.model.state_dict(), model_name)"
   ]
  },
  {
   "cell_type": "code",
   "execution_count": null,
   "id": "severe-uganda",
   "metadata": {},
   "outputs": [],
   "source": [
    "from face_recognition.models.FaceNet import load_weights"
   ]
  },
  {
   "cell_type": "code",
   "execution_count": null,
   "id": "danish-office",
   "metadata": {},
   "outputs": [],
   "source": [
    "model = load_weights(model_name)\n"
   ]
  },
  {
   "cell_type": "code",
   "execution_count": null,
   "id": "center-fisher",
   "metadata": {},
   "outputs": [],
   "source": [
    "model"
   ]
  },
  {
   "cell_type": "code",
   "execution_count": null,
   "id": "regional-undergraduate",
   "metadata": {},
   "outputs": [],
   "source": [
    "enc = model(lfw_set[0][0].unsqueeze(0))"
   ]
  },
  {
   "cell_type": "code",
   "execution_count": null,
   "id": "particular-buffer",
   "metadata": {},
   "outputs": [],
   "source": [
    "enc.shape"
   ]
  }
 ],
 "metadata": {
  "kernelspec": {
   "display_name": "Python 3",
   "language": "python",
   "name": "python3"
  },
  "language_info": {
   "codemirror_mode": {
    "name": "ipython",
    "version": 3
   },
   "file_extension": ".py",
   "mimetype": "text/x-python",
   "name": "python",
   "nbconvert_exporter": "python",
   "pygments_lexer": "ipython3",
   "version": "3.8.2"
  }
 },
 "nbformat": 4,
 "nbformat_minor": 5
}

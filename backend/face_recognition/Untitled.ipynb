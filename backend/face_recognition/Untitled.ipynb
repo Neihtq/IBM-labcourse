{
 "cells": [
  {
   "cell_type": "code",
   "execution_count": 2,
   "id": "unauthorized-center",
   "metadata": {},
   "outputs": [],
   "source": [
    "import os\n",
    "import torch\n",
    "\n",
    "from models.FaceNetPytorchLightning import LightningFaceNet"
   ]
  },
  {
   "cell_type": "code",
   "execution_count": 3,
   "id": "controlling-laptop",
   "metadata": {},
   "outputs": [],
   "source": [
    "results_path = './results/models'\n",
    "\n",
    "os.mkdir(results_path)"
   ]
  },
  {
   "cell_type": "code",
   "execution_count": 4,
   "id": "accompanied-slope",
   "metadata": {},
   "outputs": [],
   "source": [
    "checkpoint = './checkpoints/last_checkpoint-v8.ckpt'"
   ]
  },
  {
   "cell_type": "code",
   "execution_count": 7,
   "id": "accessible-watson",
   "metadata": {},
   "outputs": [],
   "source": [
    "import pytorch_lightning as pl\n",
    "\n",
    "from torchvision import transforms\n",
    "from data.datasets import LFWValidationDataset"
   ]
  },
  {
   "cell_type": "code",
   "execution_count": 8,
   "id": "prepared-burke",
   "metadata": {},
   "outputs": [],
   "source": [
    "root = os.path.join('data', 'images', 'lfw_aligned')\n",
    "pairs_txt = os.path.join('data', 'images', 'pairs.txt')\n",
    "transform = transforms.Compose([\n",
    "    transforms.Resize((224, 224)),\n",
    "    transforms.ToTensor(),\n",
    "    transforms.Normalize((0.5, 0.5, 0.5), (0.5, 0.5, 0.5))]\n",
    ")\n",
    "lfw_set = LFWValidationDataset(root, pairs_txt, transform=transform)"
   ]
  },
  {
   "cell_type": "code",
   "execution_count": 9,
   "id": "painful-manufacturer",
   "metadata": {},
   "outputs": [
    {
     "ename": "ModuleNotFoundError",
     "evalue": "No module named 'face_recognition'",
     "output_type": "error",
     "traceback": [
      "\u001b[1;31m---------------------------------------------------------------------------\u001b[0m",
      "\u001b[1;31mModuleNotFoundError\u001b[0m                       Traceback (most recent call last)",
      "\u001b[1;32m<ipython-input-9-01b177c88f82>\u001b[0m in \u001b[0;36m<module>\u001b[1;34m\u001b[0m\n\u001b[1;32m----> 1\u001b[1;33m \u001b[1;32mfrom\u001b[0m \u001b[0mmodels\u001b[0m\u001b[1;33m.\u001b[0m\u001b[0mFaceNet\u001b[0m \u001b[1;32mimport\u001b[0m \u001b[0mFaceNetResnet\u001b[0m\u001b[1;33m\u001b[0m\u001b[1;33m\u001b[0m\u001b[0m\n\u001b[0m\u001b[0;32m      2\u001b[0m \u001b[0mhparams\u001b[0m \u001b[1;33m=\u001b[0m \u001b[1;33m{\u001b[0m\u001b[1;34m'margin'\u001b[0m\u001b[1;33m:\u001b[0m \u001b[1;36m0.02\u001b[0m\u001b[1;33m,\u001b[0m \u001b[1;34m'optimizer'\u001b[0m\u001b[1;33m:\u001b[0m \u001b[1;34m'adagrad'\u001b[0m\u001b[1;33m,\u001b[0m \u001b[1;34m'weight_decay'\u001b[0m\u001b[1;33m:\u001b[0m \u001b[1;36m1e-5\u001b[0m\u001b[1;33m,\u001b[0m \u001b[1;34m'lr'\u001b[0m\u001b[1;33m:\u001b[0m \u001b[1;36m0.05\u001b[0m\u001b[1;33m}\u001b[0m\u001b[1;33m\u001b[0m\u001b[1;33m\u001b[0m\u001b[0m\n\u001b[0;32m      3\u001b[0m \u001b[0mbackbone\u001b[0m \u001b[1;33m=\u001b[0m \u001b[0mFaceNetResnet\u001b[0m\u001b[1;33m(\u001b[0m\u001b[0mpretrained\u001b[0m\u001b[1;33m=\u001b[0m\u001b[1;32mTrue\u001b[0m\u001b[1;33m)\u001b[0m\u001b[1;33m\u001b[0m\u001b[1;33m\u001b[0m\u001b[0m\n\u001b[0;32m      4\u001b[0m \u001b[0mmodel\u001b[0m \u001b[1;33m=\u001b[0m \u001b[0mLightningFaceNet\u001b[0m\u001b[1;33m(\u001b[0m\u001b[0mhparams\u001b[0m\u001b[1;33m,\u001b[0m \u001b[0mbackbone\u001b[0m\u001b[1;33m)\u001b[0m\u001b[1;33m\u001b[0m\u001b[1;33m\u001b[0m\u001b[0m\n",
      "\u001b[1;32m~\\Projects\\IBM-labcourse\\backend\\face_recognition\\models\\FaceNet.py\u001b[0m in \u001b[0;36m<module>\u001b[1;34m\u001b[0m\n\u001b[0;32m      7\u001b[0m \u001b[1;32mfrom\u001b[0m \u001b[0mtorch\u001b[0m\u001b[1;33m.\u001b[0m\u001b[0mhub\u001b[0m \u001b[1;32mimport\u001b[0m \u001b[0mdownload_url_to_file\u001b[0m\u001b[1;33m\u001b[0m\u001b[1;33m\u001b[0m\u001b[0m\n\u001b[0;32m      8\u001b[0m \u001b[1;33m\u001b[0m\u001b[0m\n\u001b[1;32m----> 9\u001b[1;33m \u001b[1;32mfrom\u001b[0m \u001b[0mface_recognition\u001b[0m\u001b[1;33m.\u001b[0m\u001b[0mutils\u001b[0m\u001b[1;33m.\u001b[0m\u001b[0mconstants\u001b[0m \u001b[1;32mimport\u001b[0m \u001b[0mPRETRAINED_URL\u001b[0m\u001b[1;33m,\u001b[0m \u001b[0mPRETRAINED_MODEL_DIR\u001b[0m\u001b[1;33m,\u001b[0m \u001b[0mMODEL_DIR\u001b[0m\u001b[1;33m\u001b[0m\u001b[1;33m\u001b[0m\u001b[0m\n\u001b[0m\u001b[0;32m     10\u001b[0m \u001b[1;33m\u001b[0m\u001b[0m\n\u001b[0;32m     11\u001b[0m \u001b[1;33m\u001b[0m\u001b[0m\n",
      "\u001b[1;31mModuleNotFoundError\u001b[0m: No module named 'face_recognition'"
     ]
    }
   ],
   "source": [
    "from models.FaceNet import FaceNetResnet\n",
    "hparams = {'margin': 0.02, 'optimizer': 'adagrad', 'weight_decay': 1e-5, 'lr': 0.05}\n",
    "backbone = FaceNetResnet(pretrained=True)\n",
    "model = LightningFaceNet(hparams, backbone)"
   ]
  },
  {
   "cell_type": "code",
   "execution_count": null,
   "id": "consistent-somewhere",
   "metadata": {},
   "outputs": [],
   "source": []
  }
 ],
 "metadata": {
  "kernelspec": {
   "display_name": "Python 3",
   "language": "python",
   "name": "python3"
  },
  "language_info": {
   "codemirror_mode": {
    "name": "ipython",
    "version": 3
   },
   "file_extension": ".py",
   "mimetype": "text/x-python",
   "name": "python",
   "nbconvert_exporter": "python",
   "pygments_lexer": "ipython3",
   "version": "3.8.2"
  }
 },
 "nbformat": 4,
 "nbformat_minor": 5
}

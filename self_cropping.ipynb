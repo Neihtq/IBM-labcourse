{
 "cells": [
  {
   "cell_type": "code",
   "execution_count": 1,
   "metadata": {},
   "outputs": [],
   "source": [
    "import cv2\n",
    "import torch\n",
    "import imutils\n",
    "import time\n",
    "import numpy as np\n",
    "import sys\n",
    "from face_detection.face_alignment import FaceAlignment\n",
    "\n",
    "import glob\n",
    "import os\n",
    "from os.path import join, dirname, abspath\n",
    "from models.FaceNet import FaceNet\n",
    "from registration_database.RegistrationDatabase import RegistrationDatabase"
   ]
  },
  {
   "cell_type": "code",
   "execution_count": 8,
   "metadata": {},
   "outputs": [],
   "source": [
    "def crop_img(img, start_x, start_y, end_x, end_y):\n",
    "    height, width = end_y - start_y, end_x - start_x\n",
    "    crop_img = img[start_y:start_y+height, start_x:start_x+width]\n",
    "    crop_img = cv2.resize(crop_img, (250, 250))\n",
    "    return crop_img"
   ]
  },
  {
   "cell_type": "code",
   "execution_count": 17,
   "metadata": {
    "scrolled": false
   },
   "outputs": [
    {
     "name": "stdout",
     "output_type": "stream",
     "text": [
      "1\n",
      "2\n",
      "3\n",
      "4\n",
      "5\n",
      "6\n",
      "7\n",
      "8\n",
      "9\n",
      "10\n"
     ]
    }
   ],
   "source": [
    "read_root = os.path.join(\".\\IBM_face_embedding\\data\\lfw\\lfw\")\n",
    "write_root = os.path.join('.\\IBM_face_embedding\\data\\lfw_self_aligned_cropped')\n",
    "#root2 = os.path.join('.', 'data', 'lfw_crop')\n",
    "\n",
    "fa = FaceAlignment()\n",
    "a = 0\n",
    "\n",
    "for people in glob.glob(read_root + \"/*\"):\n",
    "    name = people.split('\\\\')[-1]\n",
    "    write_folder = os.path.join(write_root, name)\n",
    "    if not os.path.exists(write_folder):\n",
    "        os.mkdir(write_folder)\n",
    "    for picture in glob.glob(people + \"/*\"):\n",
    "        img1 = cv2.imread(picture)\n",
    "        \n",
    "        PROTO_TXT = join(\"face_detection\", \"model\", \"deploy.prototxt\")\n",
    "        MODEL = join(\"face_detection\", \"model\", \"res10_300x300_ssd_iter_140000.caffemodel\")\n",
    "        THRESHOLD = 0.5\n",
    "\n",
    "        # Face detection model\n",
    "        #print(picture)\n",
    "        face_detection_model = cv2.dnn.readNetFromCaffe(PROTO_TXT, MODEL)\n",
    "\n",
    "        h, w = img1.shape[:2]\n",
    "        blob = cv2.dnn.blobFromImage(cv2.resize(img1, (300, 300)), 1.0, (300, 300), (104.0, 177.0, 123.0))\n",
    "        face_detection_model.setInput(blob)\n",
    "        detections = face_detection_model.forward()\n",
    "        \n",
    "        max_area = 0\n",
    "        current_box = np.zeros(4)\n",
    "        for i in np.arange(0, detections.shape[2]):\n",
    "            confidence = detections[0, 0, i, 2]\n",
    "\n",
    "            if confidence < THRESHOLD:\n",
    "                continue\n",
    "\n",
    "            box = detections[0, 0, i, 3:7] * np.array([w, h, w, h])\n",
    "            \n",
    "            #start_x , start_y, end_x, end_y = box.astype(\"int\")\n",
    "            #if max_area < (end_y - start_y * end_x - start_x):\n",
    "            #    current_box = box\n",
    "            #    max_area = (end_y - start_y * end_x - start_x)\n",
    "        \n",
    "        start_x , start_y, end_x, end_y = box.astype(\"int\")\n",
    "        #cv2.rectangle(img1, (start_x-30, start_y-30), (end_x+30, end_y+30), color, stroke)\n",
    "        #cropped_img = img1\n",
    "        try:\n",
    "            cropped_img = crop_img(img1, start_x, start_y, end_x, end_y)\n",
    "        except:\n",
    "            print(f\"Error with {name}\")\n",
    "            continue\n",
    "        #print(\"cropped: \" + str(cropped_img.shape))\n",
    "        aligned_cropped_img = fa.align(cropped_img)\n",
    "        if aligned_cropped_img is None:\n",
    "            continue\n",
    "        \n",
    "        #print(aligned_cropped_img.shape)\n",
    "        write_filename = \"{name}.jpg\".format(name=name)\n",
    "        #print(write_filename)\n",
    "        write_filename_root = os.path.join(write_folder, write_filename)\n",
    "        #print(write_filename_root)\n",
    "        cv2.imwrite(write_filename_root, aligned_cropped_img)\n",
    "        \n",
    "        a += 1\n",
    "        print(a)\n",
    "        if a == 10:\n",
    "            break\n",
    "            \n",
    "    if a == 10:\n",
    "        break\n",
    "        \n",
    "        \n",
    "        \n",
    "        #print(name)\n",
    "        #print(picture)\n",
    "        #print(people)"
   ]
  },
  {
   "cell_type": "code",
   "execution_count": null,
   "metadata": {},
   "outputs": [],
   "source": [
    "root = os.path.join(\".\\IBM_face_embedding\\data\\lfw\\lfw\")\n",
    "\n",
    "root2 = os.path.join('.', 'data', 'lfw_crop')\n",
    "print(root)\n",
    "print(root2)"
   ]
  },
  {
   "cell_type": "code",
   "execution_count": null,
   "metadata": {},
   "outputs": [],
   "source": [
    "from PIL import Image\n",
    "root = os.path.join(\".\\IBM_face_embedding\\data\\lfw\\lfw\\Aaron_Eckhart\\Aaron_Eckhart_0001.jpg\")\n",
    "img1 = cv2.imread(root)\n",
    "\n",
    "\n",
    "#absolute_dir = dirname(abspath(__file__))\n",
    "PROTO_TXT = join(\"face_detection\", \"model\", \"deploy.prototxt\")\n",
    "MODEL = join(\"face_detection\", \"model\", \"res10_300x300_ssd_iter_140000.caffemodel\")\n",
    "THRESHOLD = 0.5\n",
    "\n",
    "# Face detection model\n",
    "face_detection_model = cv2.dnn.readNetFromCaffe(PROTO_TXT, MODEL)\n",
    "\n",
    "h, w = img1.shape[:2]\n",
    "blob = cv2.dnn.blobFromImage(cv2.resize(img1, (300, 300)), 1.0, (300, 300), (104.0, 177.0, 123.0))\n",
    "face_detection_model.setInput(blob)\n",
    "detections = face_detection_model.forward()\n",
    "for i in np.arange(0, detections.shape[2]):\n",
    "    confidence = detections[0, 0, i, 2]\n",
    "\n",
    "    if confidence < THRESHOLD:\n",
    "        continue\n",
    "\n",
    "    box = detections[0, 0, i, 3:7] * np.array([w, h, w, h])\n",
    "    start_x , start_y, end_x, end_y = box.astype(\"int\")\n",
    "\n",
    "\n",
    "    color =(255, 0, 0)\n",
    "    stroke = 3\n",
    "    cv2.rectangle(img1, (start_x-30, start_y-30), (end_x+30, end_y+30), color, stroke)\n",
    "\n",
    "\n",
    "#img_item = \"aligned-image.png\"\n",
    "#cv2.imwrite(img_item, img)\n",
    "\n",
    "img1 = cv2.cvtColor(img1,cv2.COLOR_BGR2RGB)\n",
    "img = Image.fromarray(img1, 'RGB')\n",
    "img.show()\n",
    "#img.shape\n",
    "#print(img)"
   ]
  },
  {
   "cell_type": "code",
   "execution_count": 18,
   "metadata": {},
   "outputs": [
    {
     "name": "stdout",
     "output_type": "stream",
     "text": [
      "234.png\n"
     ]
    }
   ],
   "source": [
    "picture = 234\n",
    "print(\"{picture}.png\".format(picture=picture))"
   ]
  },
  {
   "cell_type": "code",
   "execution_count": null,
   "metadata": {},
   "outputs": [],
   "source": []
  },
  {
   "cell_type": "code",
   "execution_count": null,
   "metadata": {},
   "outputs": [],
   "source": []
  }
 ],
 "metadata": {
  "kernelspec": {
   "display_name": "Python 3",
   "language": "python",
   "name": "python3"
  }
 },
 "nbformat": 4,
 "nbformat_minor": 4
}

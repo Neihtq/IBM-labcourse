{
 "cells": [
  {
   "cell_type": "code",
   "execution_count": 4,
   "metadata": {},
   "outputs": [],
   "source": [
    "import cv2\n",
    "import torch\n",
    "import imutils\n",
    "import time\n",
    "import numpy as np\n",
    "import sys\n",
    "from face_detection.face_alignment import FaceAlignment\n",
    "\n",
    "import os\n",
    "from os.path import join, dirname, abspath\n",
    "from models.FaceNet import FaceNet\n",
    "from registration_database.RegistrationDatabase import RegistrationDatabase"
   ]
  },
  {
   "cell_type": "code",
   "execution_count": null,
   "metadata": {},
   "outputs": [],
   "source": [
    "root = os.path.join(\".\\IBM_face_embedding\\data\\lfw\\lfw\")\n",
    "\n",
    "root2 = os.path.join('.', 'data', 'lfw_crop')\n",
    "\n",
    "people = []\n",
    "\n",
    "for people in glob.glob(root + \"/*\"):    \n",
    "    for picture in glob.glob(picture + \"/*\"):\n",
    "\n",
    "people = []\n",
    "\n",
    "for person glob in people\n",
    "\tpeople.append(person)\n",
    "\n",
    "\n",
    "for person in glob people\n",
    "\tfor pictures glob person\n",
    "\t\tface_detection\n",
    "\t\tcrop\n",
    "\t\talgin\n",
    "\t\tsafe (overwrite the old picture)"
   ]
  },
  {
   "cell_type": "code",
   "execution_count": 5,
   "metadata": {},
   "outputs": [
    {
     "name": "stdout",
     "output_type": "stream",
     "text": [
      ".\\IBM_face_embedding\\data\\lfw\\lfw\n",
      ".\\data\\lfw_crop\n"
     ]
    }
   ],
   "source": [
    "root = os.path.join(\".\\IBM_face_embedding\\data\\lfw\\lfw\")\n",
    "\n",
    "root2 = os.path.join('.', 'data', 'lfw_crop')\n",
    "print(root)\n",
    "print(root2)"
   ]
  },
  {
   "cell_type": "code",
   "execution_count": null,
   "metadata": {},
   "outputs": [],
   "source": []
  },
  {
   "cell_type": "code",
   "execution_count": null,
   "metadata": {},
   "outputs": [],
   "source": []
  },
  {
   "cell_type": "code",
   "execution_count": null,
   "metadata": {},
   "outputs": [],
   "source": []
  },
  {
   "cell_type": "code",
   "execution_count": null,
   "metadata": {},
   "outputs": [],
   "source": []
  }
 ],
 "metadata": {
  "kernelspec": {
   "display_name": "Python 3",
   "language": "python",
   "name": "python3"
  },
  "language_info": {
   "codemirror_mode": {
    "name": "ipython",
    "version": 3
   },
   "file_extension": ".py",
   "mimetype": "text/x-python",
   "name": "python",
   "nbconvert_exporter": "python",
   "pygments_lexer": "ipython3",
   "version": "3.7.9"
  }
 },
 "nbformat": 4,
 "nbformat_minor": 4
}

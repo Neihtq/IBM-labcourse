{
 "cells": [
  {
   "cell_type": "code",
   "execution_count": 22,
   "metadata": {},
   "outputs": [],
   "source": [
    "import cv2\n",
    "import torch\n",
    "import imutils\n",
    "import time\n",
    "import numpy as np\n",
    "import sys\n",
    "from face_detection.face_alignment import FaceAlignment\n",
    "\n",
    "import glob\n",
    "import os\n",
    "from os.path import join, dirname, abspath\n",
    "from models.FaceNet import FaceNet\n",
    "from registration_database.RegistrationDatabase import RegistrationDatabase"
   ]
  },
  {
   "cell_type": "code",
   "execution_count": 25,
   "metadata": {},
   "outputs": [
    {
     "name": "stdout",
     "output_type": "stream",
     "text": [
      ".\\IBM_face_embedding\\data\\lfw\\lfw\\Aaron_Eckhart\\Aaron_Eckhart_0001.jpg.png\n"
     ]
    },
    {
     "data": {
      "text/plain": [
       "'\\nfor person glob in people\\n\\tpeople.append(person)\\n\\n\\nfor person in glob people\\n\\tfor pictures glob person\\n\\t\\tface_detection\\n\\t\\tcrop\\n\\t\\talgin\\n\\t\\tsafe (overwrite the old picture)\\n'"
      ]
     },
     "execution_count": 25,
     "metadata": {},
     "output_type": "execute_result"
    }
   ],
   "source": [
    "root = os.path.join(\".\\IBM_face_embedding\\data\\lfw\\lfw\")\n",
    "\n",
    "#root2 = os.path.join('.', 'data', 'lfw_crop')\n",
    "\n",
    "#fa = FaceAlignment()\n",
    "#cropped_aligned_inference = fa.align(cropped_inference)\n",
    "#img_item = \"aligned-image.png\"\n",
    "#cv2.imwrite(img_item, cropped_aligned_inference)\n",
    "\n",
    "#people = []\n",
    "\n",
    "for people in glob.glob(root + \"/*\"):    \n",
    "    for picture in glob.glob(people + \"/*\"):\n",
    "        img = cv2.imread(root)\n",
    "        img_item = \"{picture}.png\".format(picture=picture)\n",
    "        os.chdir(people)\n",
    "        #cv2.imwrite(img_item, img)\n",
    "        print(img_item)\n",
    "people = []\n",
    "\n",
    "\"\"\"\n",
    "for person glob in people\n",
    "\tpeople.append(person)\n",
    "\n",
    "\n",
    "for person in glob people\n",
    "\tfor pictures glob person\n",
    "\t\tface_detection\n",
    "\t\tcrop\n",
    "\t\talgin\n",
    "\t\tsafe (overwrite the old picture)\n",
    "\"\"\""
   ]
  },
  {
   "cell_type": "code",
   "execution_count": 11,
   "metadata": {},
   "outputs": [
    {
     "name": "stdout",
     "output_type": "stream",
     "text": [
      ".\\IBM_face_embedding\\data\\lfw\\lfw\\Aaron_Eckhart\\Aaron_Eckhart_0001.jpg\n",
      ".\\data\\lfw_crop\n"
     ]
    }
   ],
   "source": [
    "root = os.path.join(\".\\IBM_face_embedding\\data\\lfw\\lfw\")\n",
    "\n",
    "root2 = os.path.join('.', 'data', 'lfw_crop')\n",
    "print(root)\n",
    "print(root2)"
   ]
  },
  {
   "cell_type": "code",
   "execution_count": 17,
   "metadata": {},
   "outputs": [
    {
     "data": {
      "text/plain": [
       "True"
      ]
     },
     "execution_count": 17,
     "metadata": {},
     "output_type": "execute_result"
    }
   ],
   "source": [
    "root = os.path.join(\".\\IBM_face_embedding\\data\\lfw\\lfw\\Aaron_Eckhart\\Aaron_Eckhart_0001.jpg\")\n",
    "img = cv2.imread(root)\n",
    "img_item = \"aligned-image.png\"\n",
    "cv2.imwrite(img_item, img)\n",
    "\n",
    "#img.shape\n",
    "#print(img)"
   ]
  },
  {
   "cell_type": "code",
   "execution_count": 18,
   "metadata": {},
   "outputs": [
    {
     "name": "stdout",
     "output_type": "stream",
     "text": [
      "234.png\n"
     ]
    }
   ],
   "source": [
    "picture = 234\n",
    "print(\"{picture}.png\".format(picture=picture))"
   ]
  },
  {
   "cell_type": "code",
   "execution_count": null,
   "metadata": {},
   "outputs": [],
   "source": []
  },
  {
   "cell_type": "code",
   "execution_count": null,
   "metadata": {},
   "outputs": [],
   "source": []
  }
 ],
 "metadata": {
  "kernelspec": {
   "display_name": "Python 3",
   "language": "python",
   "name": "python3"
  },
  "language_info": {
   "codemirror_mode": {
    "name": "ipython",
    "version": 3
   },
   "file_extension": ".py",
   "mimetype": "text/x-python",
   "name": "python",
   "nbconvert_exporter": "python",
   "pygments_lexer": "ipython3",
   "version": "3.7.9"
  }
 },
 "nbformat": 4,
 "nbformat_minor": 4
}
